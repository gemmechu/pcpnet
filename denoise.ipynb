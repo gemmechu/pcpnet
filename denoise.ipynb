{
 "cells": [
  {
   "cell_type": "code",
   "execution_count": 7,
   "metadata": {},
   "outputs": [],
   "source": [
    "# create test and train set \n",
    "# save it as txt files\n",
    "import glob\n",
    "import random\n",
    "def get_random_train_list():\n",
    "    files = glob.glob('data/noisy_clouds/*.xyz')\n",
    "    train = random.sample(files, 120)\n",
    "    train_set = set(train)\n",
    "    train_list = []\n",
    "    test_list = []\n",
    "    for file in files:\n",
    "        name = file.split('/')[-1].split('.')[0]\n",
    "        if file in train_set:\n",
    "            train_list.append(name)\n",
    "        else:\n",
    "            test_list.append(name)\n",
    "\n",
    "    return train_list, test_list\n",
    "def write_list_to_file(filename,my_list):\n",
    "    with open(filename, 'w') as f:\n",
    "        for item in my_list:\n",
    "            f.write(\"%s\\n\" % item)\n",
    "train_list, test_list = get_random_train_list()\n",
    "write_list_to_file('data/noisy_clouds/trainingset.txt', train_list)\n",
    "write_list_to_file('data/noisy_clouds/testset.txt', test_list)"
   ]
  },
  {
   "cell_type": "code",
   "execution_count": null,
   "metadata": {},
   "outputs": [],
   "source": []
  }
 ],
 "metadata": {
  "interpreter": {
   "hash": "dadfc4e603c6809530074471f75074f08f7d343c5bf17bba40ba3a151463aa7c"
  },
  "kernelspec": {
   "display_name": "Python 3.8.12 64-bit ('py38': conda)",
   "name": "python3"
  },
  "language_info": {
   "codemirror_mode": {
    "name": "ipython",
    "version": 3
   },
   "file_extension": ".py",
   "mimetype": "text/x-python",
   "name": "python",
   "nbconvert_exporter": "python",
   "pygments_lexer": "ipython3",
   "version": "3.8.12"
  },
  "orig_nbformat": 4
 },
 "nbformat": 4,
 "nbformat_minor": 2
}
