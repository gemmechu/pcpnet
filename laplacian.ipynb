{
 "cells": [
  {
   "cell_type": "code",
   "execution_count": 5,
   "metadata": {},
   "outputs": [],
   "source": [
    "import numpy as np\n",
    "import trimesh\n",
    "import scipy.sparse as sparse\n",
    "from scipy.sparse import coo_matrix\n",
    "from scipy.spatial import distance\n",
    "import glob\n",
    "import os\n",
    "import robust_laplacian"
   ]
  },
  {
   "cell_type": "code",
   "execution_count": 9,
   "metadata": {},
   "outputs": [
    {
     "name": "stdout",
     "output_type": "stream",
     "text": [
      "data/new_data/noisy_mesh/fandisk_n1.obj\n"
     ]
    }
   ],
   "source": [
    "\n",
    "def knn_cotan(mesh, k):\n",
    "    def get_weight(neighbour,cotan_weight, i):\n",
    "        indices = set(cotan_weight.getrow(i).indices)\n",
    "        values = np.array(cotan_weight.getrow(i).todense())\n",
    "        result = []\n",
    "        for col in neighbour:\n",
    "            if col in indices:\n",
    "                result.append(values[0][col])\n",
    "            else:\n",
    "                result.append(0.0)\n",
    "        return result\n",
    "    vertices = mesh.vertices.view(np.ndarray)\n",
    "    faces = mesh.faces.view(np.ndarray)\n",
    "    L, M = robust_laplacian.mesh_laplacian(vertices, faces)\n",
    "    cotan_weight = L.tocsr()\n",
    "    D = distance.squareform(distance.pdist(vertices))\n",
    "    closest = np.argsort(D, axis=1)\n",
    "    closest = closest[:, 1:k+1]\n",
    "\n",
    "    data = []\n",
    "    for i, neighbour in enumerate(closest):\n",
    "        weight = get_weight(neighbour, cotan_weight, i)\n",
    "        # weight.extend([0.0]*(k-len(weight)))\n",
    "        data.append(weight)\n",
    "    \n",
    "    \n",
    "    # col = np.concatenate(closest)\n",
    "    # row = np.concatenate([[i] * len(n)\n",
    "                        #   for i, n in enumerate(closest)])\n",
    "    \n",
    "   \n",
    "    # # data = np.concatenate([i / np.array(i).sum() if np.array(i).sum()>0 else i for i in data])\n",
    "    # data = np.concatenate([i for i in data])\n",
    "    \n",
    "    \n",
    "    \n",
    "    # matrix = coo_matrix((data, (row,col)),\n",
    "    #                     shape=[len(vertices)] * 2)\n",
    "    return data\n",
    "def save_xyz(pts, file_name):\n",
    "    # print(pts)\n",
    "    s = trimesh.util.array_to_string(pts)\n",
    "    with open(file_name, 'w') as f:\n",
    "        f.write(\"%s\\n\" % s)\n",
    "\n",
    "def create_target():\n",
    "    files = glob.glob('data/new_data/noisy_mesh/*.obj')\n",
    "    for file in files:\n",
    "        print(file)\n",
    "        dest_name = 'data/new_data/cotan_laplacian/' +file.split('/')[-1].split('.')[0] +'.laplacian'\n",
    "        danger = set([\"gear_n3.obj\", \"boy01-scanned_n1.obj\",\"gear_n2.obj\", \"gear_n1.obj\", \"boy02-scanned_n1.obj\"])\n",
    "        if os.path.isfile(dest_name) or file.split(\"/\")[-1] in danger:\n",
    "            print(\"skipped: \", file)\n",
    "            continue\n",
    "        mesh = trimesh.load_mesh(file)\n",
    "        result = knn_cotan(mesh, 6)\n",
    "\n",
    "        save_xyz(result, dest_name)\n",
    "        # break\n",
    "create_target()"
   ]
  },
  {
   "cell_type": "code",
   "execution_count": null,
   "metadata": {},
   "outputs": [],
   "source": []
  }
 ],
 "metadata": {
  "interpreter": {
   "hash": "195c5c44bf3947b3a922b533fcc8eeb8dc77b99a9e5e1d1f07d3a384dfb0323f"
  },
  "kernelspec": {
   "display_name": "Python 3.8.8 ('diffusion_net')",
   "language": "python",
   "name": "python3"
  },
  "language_info": {
   "codemirror_mode": {
    "name": "ipython",
    "version": 3
   },
   "file_extension": ".py",
   "mimetype": "text/x-python",
   "name": "python",
   "nbconvert_exporter": "python",
   "pygments_lexer": "ipython3",
   "version": "3.8.8"
  },
  "orig_nbformat": 4
 },
 "nbformat": 4,
 "nbformat_minor": 2
}
